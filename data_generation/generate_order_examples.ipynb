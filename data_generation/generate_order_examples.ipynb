{
 "cells": [
  {
   "cell_type": "code",
   "execution_count": null,
   "metadata": {},
   "outputs": [
    {
     "name": "stderr",
     "output_type": "stream",
     "text": [
      "\u001b[32m2025-04-01 15:46:34.225\u001b[0m | \u001b[1mINFO    \u001b[0m | \u001b[36m__main__\u001b[0m:\u001b[36m<module>\u001b[0m:\u001b[36m61\u001b[0m - \u001b[1mDataset generated succesfully\u001b[0m\n"
     ]
    }
   ],
   "source": [
    "import json\n",
    "import os\n",
    "import random\n",
    "\n",
    "from loguru import logger\n",
    "\n",
    "\n",
    "\n",
    "def generate_order_example(product_1: dict, product_2: dict):\n",
    "    # TODO: Implement some generic order message generation here!\n",
    "    # The input here is a single item from product_entities.json\n",
    "    # First fix generate_item_examples.ipynb if you haven't yet!\n",
    "\n",
    "    # Hint: There is a method in utils.py that might be useful.\n",
    "    return \"THIS SHOULD BE AN ORDER\"\n",
    "\n",
    "if __name__ == \"__main__\":\n",
    "    # Read product examples to put into the sentences:\n",
    "    with open(f\"../data/product_entities.json\", \"r\") as json_file:\n",
    "        product_entities = json.load(json_file)\n",
    "\n",
    "    data_directory = f\"../data/order_examples\"\n",
    "    os.makedirs(data_directory, exist_ok=True)\n",
    "\n",
    "    for i in range(int(len(product_entities) / 2)):\n",
    "        p_1, p_2 = random.sample(product_entities, 2)\n",
    "        order = generate_order_example(p_1, p_2)\n",
    "\n",
    "        file_path = os.path.join(data_directory, f\"sentence_{i}.json\")\n",
    "\n",
    "        data = {\"text\": order, \"products\": [p_1, p_2]}\n",
    "        with open(file_path, \"w\") as f:\n",
    "            json.dump(data, f, indent=2)\n",
    "\n",
    "    logger.info(\"Dataset generated succesfully\")"
   ]
  }
 ],
 "metadata": {
  "kernelspec": {
   "display_name": "3.11.10",
   "language": "python",
   "name": "python3"
  },
  "language_info": {
   "codemirror_mode": {
    "name": "ipython",
    "version": 3
   },
   "file_extension": ".py",
   "mimetype": "text/x-python",
   "name": "python",
   "nbconvert_exporter": "python",
   "pygments_lexer": "ipython3",
   "version": "3.11.10"
  }
 },
 "nbformat": 4,
 "nbformat_minor": 2
}
